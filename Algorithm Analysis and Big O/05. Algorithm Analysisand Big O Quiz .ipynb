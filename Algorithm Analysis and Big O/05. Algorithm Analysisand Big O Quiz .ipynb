{
 "cells": [
  {
   "cell_type": "markdown",
   "metadata": {},
   "source": [
    "#### Q1. Give the Big-O performance (performance is time complexity) of the following code:\n",
    "```python\n",
    "for x in range(n):\n",
    "    for y in range(n):\n",
    "        print('hi!')\n",
    "```\n",
    "Answer: O(n^2)"
   ]
  },
  {
   "cell_type": "markdown",
   "metadata": {},
   "source": [
    "#### Q2. Give the Big-O performance of the following code:\n",
    "```python\n",
    "for val in range(n):\n",
    "    print('done)\n",
    "```\n",
    "Answer: O(n)"
   ]
  },
  {
   "cell_type": "markdown",
   "metadata": {},
   "source": [
    "#### Q3. Give the performance of the following code:\n",
    "```python\n",
    "x = n\n",
    "while x > 0:\n",
    "    y = 2 + 2\n",
    "    x = x // 2\n",
    "```\n",
    "Answer: O(log(n))\n",
    "\n",
    "x is cut in half each time through the loop, so it will only take log(n) iterations!"
   ]
  },
  {
   "cell_type": "markdown",
   "metadata": {},
   "source": [
    "#### Q4. What is the Big-O performance of the following code:\n",
    "```python\n",
    "w = 0\n",
    "for x in range(n):\n",
    "    w = w + 1\n",
    "    \n",
    "for x in range(n):\n",
    "    w = w - 1\n",
    "```\n",
    "Answer: O(n)"
   ]
  },
  {
   "cell_type": "markdown",
   "metadata": {},
   "source": [
    "#### Q5. Give the Big-O performance of the follwoing code:\n",
    "```python\n",
    "for x in range(n):\n",
    "    x = 2+2\n",
    "for y in range(n):\n",
    "    x = 2+2\n",
    "for w in range(n):\n",
    "    x = 2+2\n",
    "```\n",
    "Answer: O(n)"
   ]
  }
 ],
 "metadata": {
  "kernelspec": {
   "display_name": "Python 3",
   "language": "python",
   "name": "python3"
  },
  "language_info": {
   "codemirror_mode": {
    "name": "ipython",
    "version": 3
   },
   "file_extension": ".py",
   "mimetype": "text/x-python",
   "name": "python",
   "nbconvert_exporter": "python",
   "pygments_lexer": "ipython3",
   "version": "3.8.3"
  }
 },
 "nbformat": 4,
 "nbformat_minor": 4
}
