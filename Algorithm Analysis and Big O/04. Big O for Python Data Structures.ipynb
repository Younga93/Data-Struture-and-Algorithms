{
 "cells": [
  {
   "cell_type": "markdown",
   "metadata": {},
   "source": [
    "## Big O for Python Data Structures"
   ]
  },
  {
   "cell_type": "markdown",
   "metadata": {},
   "source": [
    "### Lists\n",
    "In Python lists act as dynamic arrays and support a number of common operations through methods called on them.  \n",
    "The two most common operations performed on a list are indexing and assigning to an index position.  \n",
    "These operations are both designed to be run in constant time, O(1).\n",
    "\n",
    "Methods to construct a list that is \\[0,1,2,...10000\\].  \n",
    "Let go ahead and compare various methods, such as appending to the end of a list, concatenating a list, or using tools such as casting and list comprehension."
   ]
  },
  {
   "cell_type": "code",
   "execution_count": 1,
   "metadata": {},
   "outputs": [],
   "source": [
    "def method1():\n",
    "    l = []\n",
    "    for n in range(10000):\n",
    "        l = l + [n]\n",
    "\n",
    "def method2():\n",
    "    l = []\n",
    "    for n in range(10000):\n",
    "        l.append(n)\n",
    "        \n",
    "def method3():\n",
    "    l = [n for n in range(10000)]\n",
    "    \n",
    "def method4():\n",
    "    l = list(range(10000))"
   ]
  },
  {
   "cell_type": "code",
   "execution_count": 4,
   "metadata": {},
   "outputs": [
    {
     "name": "stdout",
     "output_type": "stream",
     "text": [
      "102 ms ± 1.77 ms per loop (mean ± std. dev. of 7 runs, 10 loops each)\n",
      "855 µs ± 137 µs per loop (mean ± std. dev. of 7 runs, 1000 loops each)\n",
      "407 µs ± 3.83 µs per loop (mean ± std. dev. of 7 runs, 1000 loops each)\n",
      "133 µs ± 2.59 µs per loop (mean ± std. dev. of 7 runs, 10000 loops each)\n"
     ]
    }
   ],
   "source": [
    "%timeit method1()\n",
    "%timeit method2()\n",
    "%timeit method3()\n",
    "%timeit method4()"
   ]
  },
  {
   "cell_type": "markdown",
   "metadata": {},
   "source": [
    "The most effective method is the built-in range() function in Python.\n",
    "\n",
    "It is important to keep these factors in mind when writing efficient code.  \n",
    "More importantly begin thinking about how we are able to index with O(1).  "
   ]
  },
  {
   "cell_type": "markdown",
   "metadata": {},
   "source": [
    "#### Table of Big-O for common list operations\n",
    "|Operation|Big-O Efficiency|\n",
    "|--|--|\n",
    "|index\\[\\]|O(1)|\n",
    "|index assignment|O(1)|\n",
    "|append|O(1)|\n",
    "|pop()|O(1)|\n",
    "|pop(i)|O(n)|\n",
    "|insert(i,item)|O(n)|\n",
    "|del operator|O(n)|\n",
    "|iteration|O(n)|\n",
    "|contains(in)|O(n)|\n",
    "|get slice\\[x:y\\]|O(k)|\n",
    "|del slice|O(n)|\n",
    "|set slice|O(n+k)|\n",
    "|reverse|O(n)|\n",
    "|concatenate|O(k)|\n",
    "|sort|O(n log n)|\n",
    "|multiply|O(nk)|"
   ]
  },
  {
   "cell_type": "markdown",
   "metadata": {},
   "source": [
    "### Dictionaries\n",
    "\n",
    "Dictionaries in Python are an implementation of a hash table.  \n",
    "They operate with keys and values."
   ]
  },
  {
   "cell_type": "code",
   "execution_count": 5,
   "metadata": {},
   "outputs": [],
   "source": [
    "d = {'k1':1, 'k2':2}"
   ]
  },
  {
   "cell_type": "code",
   "execution_count": 6,
   "metadata": {},
   "outputs": [
    {
     "data": {
      "text/plain": [
       "1"
      ]
     },
     "execution_count": 6,
     "metadata": {},
     "output_type": "execute_result"
    }
   ],
   "source": [
    "d['k1']"
   ]
  },
  {
   "cell_type": "markdown",
   "metadata": {},
   "source": [
    "**Getting and setting items in a dictionary are O(1)!**  \n",
    "Hash tables are designed with efficiency in mind.\n",
    "\n",
    "#### Table of Big-O for common dictionary operations\n",
    "|Operation|Big-O Efficiency|\n",
    "|--|--|\n",
    "|copy|O(n)|\n",
    "|get item|O(1)|\n",
    "|set item|O(1)|\n",
    "|delete item|O(1)|\n",
    "|contains (in)|O(1)|\n",
    "|iteration|O(n)|"
   ]
  }
 ],
 "metadata": {
  "kernelspec": {
   "display_name": "Python 3",
   "language": "python",
   "name": "python3"
  },
  "language_info": {
   "codemirror_mode": {
    "name": "ipython",
    "version": 3
   },
   "file_extension": ".py",
   "mimetype": "text/x-python",
   "name": "python",
   "nbconvert_exporter": "python",
   "pygments_lexer": "ipython3",
   "version": "3.8.3"
  }
 },
 "nbformat": 4,
 "nbformat_minor": 4
}
